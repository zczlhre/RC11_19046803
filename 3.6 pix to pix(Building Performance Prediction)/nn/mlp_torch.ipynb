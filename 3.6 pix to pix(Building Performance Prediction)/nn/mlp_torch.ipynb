{
 "cells": [
  {
   "cell_type": "code",
   "execution_count": 1,
   "metadata": {},
   "outputs": [],
   "source": [
    "# 导入库\n",
    "import numpy as np\n",
    "import pandas as pd"
   ]
  },
  {
   "cell_type": "code",
   "execution_count": 2,
   "metadata": {},
   "outputs": [],
   "source": [
    "def normalization(data):\n",
    "    mu = np.mean(data, axis=0)\n",
    "    sigma = np.std(data, axis=0)\n",
    "    return (data - mu) / sigma"
   ]
  },
  {
   "cell_type": "code",
   "execution_count": 3,
   "metadata": {},
   "outputs": [],
   "source": [
    "# 读取excel数据\n",
    "excel_file='../data/test1.xlsx'\n",
    "df = pd.read_excel(excel_file, 'Sheet1', index_col=None, na_values=['NA'])\n",
    "data=df.to_numpy()"
   ]
  },
  {
   "cell_type": "code",
   "execution_count": 4,
   "metadata": {},
   "outputs": [],
   "source": [
    "# 拆分数据\n",
    "params=data[:,:16]\n",
    "radias=data[:,16]\n",
    "sunhours=data[:,17]\n",
    "features=data[:,18:]\n",
    "\n",
    "#归一化数据\n",
    "params=normalization(params)\n",
    "radias=normalization(radias)\n",
    "sunhours=normalization(sunhours)\n",
    "features=normalization(features)\n",
    "\n",
    "X=features\n",
    "y=radias\n",
    "\n",
    "X_train=X[:-400]\n",
    "y_train=y[:-400]\n",
    "X_test=X[-400:]\n",
    "y_test=y[-400:]"
   ]
  },
  {
   "cell_type": "code",
   "execution_count": 5,
   "metadata": {},
   "outputs": [],
   "source": [
    "import torch\n",
    "import torch.nn as nn\n",
    "from torch.autograd import Variable"
   ]
  },
  {
   "cell_type": "code",
   "execution_count": 10,
   "metadata": {},
   "outputs": [],
   "source": [
    "mlp=nn.Sequential(*[nn.Linear(21,100),nn.LeakyReLU(),nn.Linear(100,1),nn.LeakyReLU()])\n",
    "criterion = torch.nn.MSELoss()\n",
    "optimizer = torch.optim.Adam(mlp.parameters(), lr=0.001, betas=(0.9, 0.999))"
   ]
  },
  {
   "cell_type": "markdown",
   "metadata": {},
   "source": [
    "# 训练"
   ]
  },
  {
   "cell_type": "code",
   "execution_count": 11,
   "metadata": {},
   "outputs": [
    {
     "name": "stdout",
     "output_type": "stream",
     "text": [
      "train loss:0.926429, val loss:1.015086\n",
      "train loss:0.437852, val loss:0.526019\n",
      "train loss:0.428053, val loss:0.516304\n",
      "train loss:0.408273, val loss:0.495229\n",
      "train loss:0.357490, val loss:0.441924\n",
      "train loss:0.268873, val loss:0.342979\n",
      "train loss:0.161418, val loss:0.221277\n",
      "train loss:0.092749, val loss:0.138523\n",
      "train loss:0.063236, val loss:0.098563\n",
      "train loss:0.047526, val loss:0.075568\n",
      "train loss:0.035917, val loss:0.055972\n",
      "train loss:0.028381, val loss:0.042670\n",
      "train loss:0.022880, val loss:0.033948\n",
      "train loss:0.019175, val loss:0.027603\n",
      "train loss:0.016498, val loss:0.023453\n",
      "train loss:0.014482, val loss:0.020400\n",
      "train loss:0.012914, val loss:0.018121\n",
      "train loss:0.011924, val loss:0.016584\n",
      "train loss:0.011224, val loss:0.015814\n",
      "train loss:0.010589, val loss:0.015282\n",
      "train loss:0.010110, val loss:0.014953\n",
      "train loss:0.009607, val loss:0.014635\n",
      "train loss:0.009232, val loss:0.014425\n",
      "train loss:0.008932, val loss:0.014251\n",
      "train loss:0.008678, val loss:0.014284\n",
      "train loss:0.008483, val loss:0.014271\n",
      "train loss:0.008319, val loss:0.014280\n",
      "train loss:0.008152, val loss:0.014420\n",
      "train loss:0.008018, val loss:0.014498\n",
      "train loss:0.007860, val loss:0.014593\n",
      "train loss:0.007756, val loss:0.014684\n",
      "train loss:0.007652, val loss:0.014703\n",
      "train loss:0.007552, val loss:0.014679\n",
      "train loss:0.007468, val loss:0.014712\n",
      "train loss:0.007390, val loss:0.014824\n",
      "train loss:0.007315, val loss:0.014910\n",
      "train loss:0.007248, val loss:0.015020\n",
      "train loss:0.007187, val loss:0.015059\n",
      "train loss:0.007098, val loss:0.014971\n",
      "train loss:0.006985, val loss:0.014999\n",
      "train loss:0.006928, val loss:0.015018\n",
      "train loss:0.006879, val loss:0.015120\n",
      "train loss:0.006833, val loss:0.015198\n",
      "train loss:0.006789, val loss:0.015226\n",
      "train loss:0.006751, val loss:0.015287\n",
      "train loss:0.006706, val loss:0.015302\n",
      "train loss:0.006670, val loss:0.015351\n",
      "train loss:0.006623, val loss:0.015363\n",
      "train loss:0.006536, val loss:0.015554\n",
      "train loss:0.006510, val loss:0.015601\n",
      "train loss:0.006453, val loss:0.015679\n",
      "train loss:0.006419, val loss:0.015694\n",
      "train loss:0.006387, val loss:0.015705\n",
      "train loss:0.006361, val loss:0.015729\n",
      "train loss:0.006340, val loss:0.015721\n",
      "train loss:0.006265, val loss:0.015710\n",
      "train loss:0.006236, val loss:0.015679\n",
      "train loss:0.006208, val loss:0.015633\n",
      "train loss:0.006180, val loss:0.015623\n",
      "train loss:0.006152, val loss:0.015648\n",
      "train loss:0.006134, val loss:0.015679\n",
      "train loss:0.006105, val loss:0.015745\n",
      "train loss:0.006071, val loss:0.015797\n",
      "train loss:0.006047, val loss:0.015842\n",
      "train loss:0.006022, val loss:0.015892\n",
      "train loss:0.005999, val loss:0.015895\n",
      "train loss:0.005978, val loss:0.015909\n",
      "train loss:0.005952, val loss:0.015987\n",
      "train loss:0.005918, val loss:0.016003\n",
      "train loss:0.005898, val loss:0.016012\n",
      "train loss:0.005817, val loss:0.016028\n",
      "train loss:0.005783, val loss:0.015961\n",
      "train loss:0.005766, val loss:0.015910\n",
      "train loss:0.005695, val loss:0.015989\n",
      "train loss:0.005664, val loss:0.015994\n",
      "train loss:0.005556, val loss:0.016084\n",
      "train loss:0.005538, val loss:0.016078\n",
      "train loss:0.005473, val loss:0.016067\n",
      "train loss:0.005463, val loss:0.016115\n",
      "train loss:0.005436, val loss:0.016145\n",
      "train loss:0.005428, val loss:0.016184\n",
      "train loss:0.005321, val loss:0.016295\n",
      "train loss:0.005290, val loss:0.016374\n",
      "train loss:0.005241, val loss:0.016552\n",
      "train loss:0.005231, val loss:0.016567\n",
      "train loss:0.005201, val loss:0.016555\n",
      "train loss:0.005183, val loss:0.016583\n",
      "train loss:0.005170, val loss:0.016683\n",
      "train loss:0.005153, val loss:0.016760\n",
      "train loss:0.005142, val loss:0.016839\n",
      "train loss:0.005132, val loss:0.016848\n",
      "train loss:0.005130, val loss:0.016968\n",
      "train loss:0.005114, val loss:0.017089\n",
      "train loss:0.005111, val loss:0.017172\n",
      "train loss:0.005102, val loss:0.017273\n",
      "train loss:0.005091, val loss:0.017343\n",
      "train loss:0.005087, val loss:0.017380\n",
      "train loss:0.005081, val loss:0.017458\n",
      "train loss:0.005079, val loss:0.017530\n",
      "train loss:0.005070, val loss:0.017560\n"
     ]
    }
   ],
   "source": [
    "loss_list=[]\n",
    "metric_list=[]\n",
    "input_train = Variable(torch.FloatTensor(X_train),requires_grad=False)\n",
    "truth_train = Variable(torch.FloatTensor(y_train.reshape(-1,1)),requires_grad=False)\n",
    "input_test = Variable(torch.FloatTensor(X_test),requires_grad=False)\n",
    "truth_test = Variable(torch.FloatTensor(y_test.reshape(-1,1)),requires_grad=False)\n",
    "for epoch in range(0, 10000):\n",
    "    mlp.zero_grad()\n",
    "    pred_train=mlp(input_train)\n",
    "    loss = criterion(pred_train, truth_train)\n",
    "    loss.backward()\n",
    "    optimizer.step()\n",
    "    loss_list.append(loss.item())\n",
    "    metric = criterion(mlp(input_test),truth_test)\n",
    "    metric_list.append(metric.item())\n",
    "    if epoch%100==0:\n",
    "        print(\"train loss:%f, val loss:%f\"%(loss.item(),metric.item()))"
   ]
  },
  {
   "cell_type": "code",
   "execution_count": 12,
   "metadata": {},
   "outputs": [
    {
     "name": "stdout",
     "output_type": "stream",
     "text": [
      "Mean squared error: 0.017589\n",
      "Coefficient of determination: 0.983835\n"
     ]
    }
   ],
   "source": [
    "\n",
    "pred_test=mlp(input_test).detach().numpy()\n",
    "from sklearn.metrics import mean_squared_error, r2_score\n",
    "print(\"Mean squared error: %f\" % mean_squared_error(y_test, pred_test))\n",
    "print(\"Coefficient of determination: %f\" % r2_score(y_test, pred_test))"
   ]
  },
  {
   "cell_type": "code",
   "execution_count": 13,
   "metadata": {},
   "outputs": [
    {
     "data": {
      "image/png": "[encoded data removed]",
      "text/plain": [
       "<Figure size 432x288 with 1 Axes>"
      ]
     },
     "metadata": {
      "needs_background": "light"
     },
     "output_type": "display_data"
    }
   ],
   "source": [
    "import matplotlib.pyplot as plt\n",
    "plt.plot(loss_list)\n",
    "plt.plot(metric_list)\n",
    "plt.show()"
   ]
  }
 ],
 "metadata": {
  "interpreter": {
   "hash": "510318c1c53486003d3ee1a85879b175089efe6f644dfb9c608d76a2f0854493"
  },
  "kernelspec": {
   "display_name": "Python 3.9.7 64-bit ('gh_data': conda)",
   "language": "python",
   "name": "python3"
  },
  "language_info": {
   "codemirror_mode": {
    "name": "ipython",
    "version": 3
   },
   "file_extension": ".py",
   "mimetype": "text/x-python",
   "name": "python",
   "nbconvert_exporter": "python",
   "pygments_lexer": "ipython3",
   "version": "3.9.7"
  },
  "orig_nbformat": 4
 },
 "nbformat": 4,
 "nbformat_minor": 2
}
