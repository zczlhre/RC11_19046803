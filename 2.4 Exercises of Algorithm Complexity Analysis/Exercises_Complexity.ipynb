{
 "cells": [
  {
   "cell_type": "markdown",
   "metadata": {},
   "source": [
    "# Exercises - Complexity"
   ]
  },
  {
   "cell_type": "markdown",
   "metadata": {},
   "source": [
    "## Exercise 1.\n",
    "Suppose we have a computer which can perform 1 million (= $10^6$) operations per second. \n",
    "\n",
    "The formulas below denote the running time of some algorithms (in number of operations) depending on the number of elements $n$ we feed to the algorithm. Determine for each algorithm how many elements can be processed in 1 minute.\n",
    "\n",
    "1. $n$\n",
    "2. $n^2$\n",
    "3. $n^3$\n",
    "4. $n!$ _(This is called n factorial)_\n",
    "5. $n*lg(n)$\n",
    "6. $2^n$\n",
    "7. $\\sqrt n$\n",
    "8. $n^{50}$\n",
    "9. $2^n$\n"
   ]
  },
  {
   "cell_type": "markdown",
   "metadata": {},
   "source": [
    "<font color=red>answer here</font> <br />\n",
    "1. $6*10^7$  \n",
    "2. $7745$\n",
    "&emsp;\n",
    "3. $391$\n",
    "4. $11$\n",
    "5. $8649296$\n",
    "6. $25$ \n",
    "7. $ 3.6*10^{15}$\n",
    "8. $1$\n",
    "9. $25$\n",
    "\n",
    " \n",
    " \n",
    "\n",
    "***"
   ]
  },
  {
   "cell_type": "markdown",
   "metadata": {},
   "source": [
    "## Exercise 2.\n",
    "Sort the functions below following $O(.)$\n",
    "\n",
    "1. $n$\n",
    "2. $10^6 - n^3 + 3n^5$\n",
    "3. $2^n$\n",
    "4. $n^2$\n",
    "5. $n*lg(n)$\n",
    "6. $\\sqrt n$\n",
    "7. $n!$\n"
   ]
  },
  {
   "cell_type": "markdown",
   "metadata": {},
   "source": [
    "answer here<br />\n",
    "from good to bad<br />\n",
    "\n",
    "\n",
    "1. $\\sqrt n$\n",
    "2. $n$\n",
    "3. $n*lg(n)$\n",
    "4. $𝑛∗𝑙𝑔(𝑛)$\n",
    "5. $𝑛2$\n",
    "6. $2𝑛$\n",
    "7. $n!$\n",
    "\n",
    "***\n",
    " "
   ]
  },
  {
   "cell_type": "markdown",
   "metadata": {},
   "source": [
    "## Exercise 3.\n",
    "In mathematics, a factorial of a positive integer $n$ is denoted by $n!$. This is the product of all positive integers less than or equal to $n$. This can be given by the following set of equations:\n",
    "\n",
    "- $n! = n * (n-1)!$\n",
    "- $0! = 1$\n",
    "\n",
    "write a recursive function (so a function that calls itself within its definition) that returns the factorial of a number $n$\n"
   ]
  },
  {
   "cell_type": "code",
   "execution_count": null,
   "metadata": {},
   "outputs": [],
   "source": [
    "def factorial(x):\n",
    "    if x == 0   :\n",
    "        return 1\n",
    "    else:\n",
    "        return (x * factorial(x-1))\n",
    "    \n",
    "n = int(input(\"Please enter the number you want to take the factorial of\"))\n",
    "num = n\n",
    "\n",
    "print(\"The factorial of\", num, \"is\", factorial(num))\n"
   ]
  },
  {
   "cell_type": "markdown",
   "metadata": {},
   "source": [
    "Now comment on what you think the order complexity of the function is. "
   ]
  },
  {
   "cell_type": "markdown",
   "metadata": {},
   "source": [
    "<font color=red>answer here</font> <br />\n",
    "$O(n)$\n",
    "\n",
    "***"
   ]
  },
  {
   "cell_type": "markdown",
   "metadata": {},
   "source": [
    "## Exercise 6\n",
    "Give the complexity in $O(.)$ of the following (dummy) algorithms, and explain why.  \n"
   ]
  },
  {
   "cell_type": "code",
   "execution_count": null,
   "metadata": {},
   "outputs": [],
   "source": [
    "def algorithm1(n):\n",
    "    s = 0             \n",
    "    i = 0              \n",
    "    while i<n:         \n",
    "        s += 1        \n",
    "        i += 1\n",
    "    return(s,i)       "
   ]
  },
  {
   "cell_type": "markdown",
   "metadata": {},
   "source": [
    "<font color=red>answer here</font> <br />\n",
    "$3n+4∈O(n)$\n",
    "\n",
    "***"
   ]
  },
  {
   "cell_type": "code",
   "execution_count": 11,
   "metadata": {},
   "outputs": [],
   "source": [
    "def algorithm2(n):\n",
    "    s = 0\n",
    "    i = 0\n",
    "    while i<n:\n",
    "        j = 0\n",
    "        while j<n:\n",
    "            s += 1\n",
    "            j += 1\n",
    "        i += 1\n",
    "    return(s,i,j)"
   ]
  },
  {
   "cell_type": "markdown",
   "metadata": {},
   "source": [
    "<font color=red>answer here</font> <br /> \n",
    "$2+3n+2+2n^2+n+1=2n^2+4n+5∈O(n^2)$\n",
    "\n",
    "***\n"
   ]
  },
  {
   "cell_type": "code",
   "execution_count": 12,
   "metadata": {},
   "outputs": [],
   "source": [
    "def algorithm3(n):\n",
    "    s = 0\n",
    "    i = 0\n",
    "    while i<n:\n",
    "        j = 0\n",
    "        while j<n*n:\n",
    "            s += 1\n",
    "            j += 1\n",
    "        i += 1\n",
    "    return(s,i,j)"
   ]
  },
  {
   "cell_type": "markdown",
   "metadata": {},
   "source": [
    "<font color=red>answer here</font> <br /> \n",
    "$2n+4+n^2+2n^3+n+1=5+2n^3+3n+n^2∈O(n^3)$\n",
    "\n",
    "***"
   ]
  }
 ],
 "metadata": {
  "kernelspec": {
   "display_name": "Python 3",
   "language": "python",
   "name": "python3"
  }
 },
 "nbformat": 4,
 "nbformat_minor": 2
}
